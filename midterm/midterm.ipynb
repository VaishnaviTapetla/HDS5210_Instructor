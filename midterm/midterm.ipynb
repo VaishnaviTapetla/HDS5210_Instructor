{
  "cells": [
    {
      "cell_type": "markdown",
      "metadata": {
        "id": "view-in-github",
        "colab_type": "text"
      },
      "source": [
        "<a href=\"https://colab.research.google.com/github/VaishnaviTapetla/HDS5210_Instructor/blob/main/midterm/midterm.ipynb\" target=\"_parent\"><img src=\"https://colab.research.google.com/assets/colab-badge.svg\" alt=\"Open In Colab\"/></a>"
      ]
    },
    {
      "cell_type": "markdown",
      "metadata": {
        "id": "qtGi1iT9dMnf"
      },
      "source": [
        "### Mid-term for HDS5210\n",
        "\n",
        "Your supervisor is concerned about 4-year survival risks for COPD. She has asked for you to do some analysis using a new metric, BODE. BODE is an improvement on a previous metric and promises to provide insight on survival risks.\n",
        "\n",
        "BODE is defined here. https://www.mdcalc.com/calc/3916/bode-index-copd-survival#evidence\n",
        "\n",
        "Your assignment is to create a BODE calculation, use it to calculate BODE scores and BODE survival rates for a group of patients. Then we want to evaluate the average BODE scores and BODE survival rates for each area hospital.\n",
        "\n",
        "Your patient input file will have the following columns:\n",
        "NAME,SSN,LANGUAGE,JOB,HEIGHT_M,WEIGHT_KG,fev_pct,dyspnea_description,distance_in_meters,hospital\n",
        "\n",
        "BODE calculations require a BMI value, so you will have to create a function for it.\n",
        "\n",
        "Your output should be in the form of two CSV files, patient_output.csv and hospital_output.csv.\n",
        "\n",
        "Patient_output will have the following columns:\n",
        "NAME,BODE_SCORE,BODE_RISK,HOSPITAL\n",
        "\n",
        "Hospital output will have the following columns:\n",
        "HOSPITAL_NAME, COPD_COUNT, PCT_OF_COPD_CASES_OVER_BEDS, AVG_SCORE, AVG_RISK\n",
        "\n",
        "Each function you create should have documentation and a suitable number of test cases. If the input data could be wrong, make sure to raise a Value Error.\n",
        "\n",
        "For this assignment, use the doctest, json, and csv libraries. Pandas is not allowed for this assignment."
      ]
    },
    {
      "cell_type": "code",
      "execution_count": 31,
      "metadata": {
        "id": "PffLmG1gdMnj"
      },
      "outputs": [],
      "source": [
        "import doctest\n",
        "import json\n",
        "import csv"
      ]
    },
    {
      "cell_type": "markdown",
      "metadata": {
        "id": "ZVC69IIvdMnk"
      },
      "source": [
        "### Step 1: Calculate BMI"
      ]
    },
    {
      "cell_type": "code",
      "execution_count": 32,
      "metadata": {
        "id": "2xUcACjcdMnl"
      },
      "outputs": [],
      "source": [
        "def calculate_bmi(height_m, weight_kg):\n",
        "    \"\"\"\n",
        "    Calculate BMI given height in meters and weight in kilograms.\n",
        "\n",
        "    Args:\n",
        "    height_m (float): Height in meters\n",
        "    weight_kg (float): Weight in kilograms\n",
        "\n",
        "    Returns:\n",
        "    float: BMI value\n",
        "\n",
        "    >>> calculate_bmi(1.75, 70)\n",
        "    22.86\n",
        "    >>> calculate_bmi(1.60, 55)\n",
        "    21.48\n",
        "    >>> calculate_bmi(0, 70)\n",
        "    Traceback (most recent call last):\n",
        "    ...\n",
        "    ValueError: Height and weight must be positive numbers\n",
        "    \"\"\"\n",
        "    if height_m <= 0 or weight_kg <= 0:\n",
        "        raise ValueError(\"Height and weight must be positive numbers\")\n",
        "    bmi = weight_kg / (height_m ** 2)\n",
        "    return round(bmi, 2)"
      ]
    },
    {
      "cell_type": "markdown",
      "metadata": {
        "id": "hVnEwhQHdMnl"
      },
      "source": [
        "### Step 2: Calculate BODE Score"
      ]
    },
    {
      "cell_type": "code",
      "execution_count": 33,
      "metadata": {
        "id": "N-u9F7xXdMnl"
      },
      "outputs": [],
      "source": [
        "def calculate_bode_score(bmi, fev_pct, dyspnea_description, distance_in_meters):\n",
        "    \"\"\"\n",
        "    Calculate BODE score based on the given parameters.\n",
        "\n",
        "    Args:\n",
        "    bmi (float): Body Mass Index\n",
        "    fev_pct (float): FEV1% predicted\n",
        "    dyspnea_description (str): Description of dyspnea\n",
        "    distance_in_meters (float): 6-minute walk distance in meters\n",
        "\n",
        "    Returns:\n",
        "    int: BODE score (0-10)\n",
        "\n",
        "    >>> calculate_bode_score(21, 65, \"STOPS AFTER 100 YARDS\", 350)\n",
        "    3\n",
        "    >>> calculate_bode_score(19, 35, \"BREATHLESS WHEN DRESSING\", 200)\n",
        "    7\n",
        "    >>> calculate_bode_score(22, 80, \"ONLY STRENUOUS EXERCISE\", 450)\n",
        "    0\n",
        "    \"\"\"\n",
        "    score = 0\n",
        "\n",
        "    # BMI score\n",
        "    if bmi < 21:\n",
        "        score += 1\n",
        "\n",
        "    # FEV1% predicted score\n",
        "    if fev_pct >= 65:\n",
        "        score += 0\n",
        "    elif 50 <= fev_pct < 65:\n",
        "        score += 1\n",
        "    elif 36 <= fev_pct < 50:\n",
        "        score += 2\n",
        "    else:\n",
        "        score += 3\n",
        "\n",
        "    # MMRC Dyspnea Scale score\n",
        "    dyspnea_scale = {\n",
        "        \"ONLY STRENUOUS EXERCISE\": 0,\n",
        "        \"WHEN HURRYING\": 1,\n",
        "        \"WALKING UPHILL\": 1,\n",
        "        \"SLOWER THAN PEERS\": 2,\n",
        "        \"STOPS AFTER 100 YARDS\": 2,\n",
        "        \"STOPS AFTER A FEW MINUTES\": 3,\n",
        "        \"STOPS WHEN WALKING AT PACE\": 3,\n",
        "        \"BREATHLESS WHEN DRESSING\": 4,\n",
        "        \"UNABLE TO LEAVE HOME\": 4\n",
        "    }\n",
        "    score += dyspnea_scale.get(dyspnea_description.upper(), 0)\n",
        "\n",
        "    # 6-minute walk distance score\n",
        "    if distance_in_meters >= 350:\n",
        "        score += 0\n",
        "    elif 250 <= distance_in_meters < 350:\n",
        "        score += 1\n",
        "    elif 150 <= distance_in_meters < 250:\n",
        "        score += 2\n",
        "    else:\n",
        "        score += 3\n",
        "\n",
        "    return score\n"
      ]
    },
    {
      "cell_type": "markdown",
      "metadata": {
        "id": "JxnouV8VdMnm"
      },
      "source": [
        "### Step 3: Calculate BODE Risk"
      ]
    },
    {
      "cell_type": "code",
      "execution_count": 34,
      "metadata": {
        "id": "-Vwm0aPZdMnm"
      },
      "outputs": [],
      "source": [
        "def calculate_bode_risk(bode_score):\n",
        "    \"\"\"\n",
        "    Calculate 4-year survival rate based on BODE score.\n",
        "\n",
        "    Args:\n",
        "    bode_score (int): BODE score (0-10)\n",
        "\n",
        "    Returns:\n",
        "    float: 4-year survival rate percentage\n",
        "\n",
        "    >>> calculate_bode_risk(0)\n",
        "    0.82\n",
        "    >>> calculate_bode_risk(5)\n",
        "    0.57\n",
        "    >>> calculate_bode_risk(10)\n",
        "    0.18\n",
        "    \"\"\"\n",
        "    if bode_score < 0 or bode_score > 10:\n",
        "        raise ValueError(\"BODE score must be between 0 and 10\")\n",
        "\n",
        "    survival_rates = {\n",
        "        0: 0.82, 1: 0.82, 2: 0.82,\n",
        "        3: 0.68, 4: 0.68,\n",
        "        5: 0.57, 6: 0.57,\n",
        "        7: 0.42, 8: 0.42,\n",
        "        9: 0.18, 10: 0.18\n",
        "    }\n",
        "\n",
        "    return survival_rates[bode_score]\n",
        "\n"
      ]
    },
    {
      "cell_type": "markdown",
      "metadata": {
        "id": "BcJllPvSdMnm"
      },
      "source": [
        "### Step 4: Load Hospital Data"
      ]
    },
    {
      "cell_type": "code",
      "execution_count": 35,
      "metadata": {
        "id": "ohTvMXR2dMnm"
      },
      "outputs": [],
      "source": [
        "def load_hospital_data(file_path):\n",
        "    \"\"\"\n",
        "    Load hospital data from a JSON file.\n",
        "\n",
        "    Args:\n",
        "    file_path (str): Path to the JSON file\n",
        "\n",
        "    Returns:\n",
        "    dict: Hospital data with hospital names as keys and bed counts as values\n",
        "    \"\"\"\n",
        "    with open(file_path, 'r') as f:\n",
        "        data = json.load(f)\n",
        "\n",
        "    hospital_beds = {}\n",
        "    for system in data:\n",
        "        for hospital in system['hospitals']:\n",
        "            hospital_beds[hospital['name']] = hospital['beds']\n",
        "\n",
        "    return hospital_beds"
      ]
    },
    {
      "cell_type": "markdown",
      "metadata": {
        "id": "09V5mucpdMnn"
      },
      "source": [
        "### Step 5: Main business logic\n",
        "\n",
        "Call BODE Score, BODE Risk functions for each patient.\n",
        "\n",
        "For each hospital, calculate Avg BODE score and Avg BODE risk and count the number of cases for each hospital."
      ]
    },
    {
      "cell_type": "code",
      "execution_count": 36,
      "metadata": {
        "id": "_1e9xgtwdMnn",
        "outputId": "ff12c668-8810-40a0-f7eb-720500dc72e1",
        "colab": {
          "base_uri": "https://localhost:8080/"
        }
      },
      "outputs": [
        {
          "output_type": "stream",
          "name": "stdout",
          "text": [
            "**********************************************************************\n",
            "File \"__main__\", line 14, in __main__.calculate_bode_score\n",
            "Failed example:\n",
            "    calculate_bode_score(21, 65, \"STOPS AFTER 100 YARDS\", 350)\n",
            "Expected:\n",
            "    3\n",
            "Got:\n",
            "    2\n",
            "**********************************************************************\n",
            "File \"__main__\", line 16, in __main__.calculate_bode_score\n",
            "Failed example:\n",
            "    calculate_bode_score(19, 35, \"BREATHLESS WHEN DRESSING\", 200)\n",
            "Expected:\n",
            "    7\n",
            "Got:\n",
            "    10\n",
            "**********************************************************************\n",
            "1 items had failures:\n",
            "   2 of   3 in __main__.calculate_bode_score\n",
            "***Test Failed*** 2 failures.\n"
          ]
        }
      ],
      "source": [
        "def process_patient_data(patient_csv, hospital_json, patient_output_file, hospital_output_file):\n",
        "    hospital_beds = load_hospital_data(hospital_json)\n",
        "    hospital_data = {hospital: {'count': 0, 'total_score': 0, 'total_risk': 0} for hospital in hospital_beds}\n",
        "\n",
        "    patient_results = []\n",
        "\n",
        "    with open(patient_csv, 'r') as f:\n",
        "        reader = csv.DictReader(f)\n",
        "        for row in reader:\n",
        "            name = row['NAME']\n",
        "            height_m = float(row['HEIGHT_M'])\n",
        "            weight_kg = float(row['WEIGHT_KG'])\n",
        "            fev_pct = float(row['fev_pct'])\n",
        "            dyspnea_description = row['dyspnea_description']\n",
        "            distance_in_meters = float(row['distance_in_meters'])\n",
        "            hospital = row['hospital']\n",
        "\n",
        "            bmi = calculate_bmi(height_m, weight_kg)\n",
        "            bode_score = calculate_bode_score(bmi, fev_pct, dyspnea_description, distance_in_meters)\n",
        "            bode_risk = calculate_bode_risk(bode_score)\n",
        "\n",
        "            patient_results.append([name, bode_score, bode_risk, hospital])\n",
        "\n",
        "            hospital_data[hospital]['count'] += 1\n",
        "            hospital_data[hospital]['total_score'] += bode_score\n",
        "            hospital_data[hospital]['total_risk'] += bode_risk\n",
        "\n",
        "    # Write patient_output.csv\n",
        "    with open(patient_output_file, 'w', newline='') as csvfile:\n",
        "        writer = csv.writer(csvfile)\n",
        "        writer.writerow(['NAME', 'BODE_SCORE', 'BODE_RISK', 'HOSPITAL'])\n",
        "        writer.writerows(patient_results)\n",
        "\n",
        "    # Prepare and write hospital_output.csv\n",
        "    hospital_output_list = []\n",
        "    for hospital, data in hospital_data.items():\n",
        "        count = data['count']\n",
        "        if count > 0:\n",
        "            avg_score = data['total_score'] / count\n",
        "            avg_risk = data['total_risk'] / count\n",
        "            pct_cases_over_beds = (count / hospital_beds[hospital]) * 100 if hospital_beds[hospital] > 0 else 0\n",
        "            hospital_output_list.append([\n",
        "                hospital,\n",
        "                count,\n",
        "                round(pct_cases_over_beds, 2),\n",
        "                round(avg_score, 2),\n",
        "                round(avg_risk, 2)\n",
        "            ])\n",
        "\n",
        "    with open(hospital_output_file, 'w', newline='') as csvfile:\n",
        "        writer = csv.writer(csvfile)\n",
        "        writer.writerow(['HOSPITAL_NAME', 'COPD_COUNT', 'PCT_OF_COPD_CASES_OVER_BEDS', 'AVG_SCORE', 'AVG_RISK'])\n",
        "        writer.writerows(hospital_output_list)\n",
        "\n",
        "# Run doctests\n",
        "if __name__ == \"__main__\":\n",
        "    doctest.testmod()\n",
        "\n",
        "    # Process the data\n",
        "    patient_csv = \"patient.csv\"\n",
        "    hospital_json = \"hospitals.json\"\n",
        "    patient_output_file = \"patient_output.csv\"\n",
        "    hospital_output_file = \"hospital_output.csv\"\n",
        "\n",
        "    process_patient_data(patient_csv, hospital_json, patient_output_file, hospital_output_file)"
      ]
    }
  ],
  "metadata": {
    "language_info": {
      "name": "python"
    },
    "colab": {
      "provenance": [],
      "include_colab_link": true
    },
    "kernelspec": {
      "name": "python3",
      "display_name": "Python 3"
    }
  },
  "nbformat": 4,
  "nbformat_minor": 0
}