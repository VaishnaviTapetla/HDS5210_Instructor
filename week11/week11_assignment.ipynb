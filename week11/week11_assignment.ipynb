{
  "cells": [
    {
      "cell_type": "markdown",
      "metadata": {
        "id": "view-in-github",
        "colab_type": "text"
      },
      "source": [
        "<a href=\"https://colab.research.google.com/github/VaishnaviTapetla/HDS5210_Instructor/blob/main/week11/week11_assignment.ipynb\" target=\"_parent\"><img src=\"https://colab.research.google.com/assets/colab-badge.svg\" alt=\"Open In Colab\"/></a>"
      ]
    },
    {
      "cell_type": "markdown",
      "metadata": {
        "id": "F76g2lrF2O73"
      },
      "source": [
        "# Week 11 Assignment\n",
        "\n",
        "\n",
        "Please do the programming exercise and verify that your code works using the tests, then think about your final project and fill out the questions in the second part.\n",
        "\n",
        "---\n",
        "---"
      ]
    },
    {
      "cell_type": "markdown",
      "metadata": {
        "id": "suYREz7W2O76"
      },
      "source": [
        "### 47.1: Filtering and summarizing data\n",
        "\n",
        "For this work, you'll find a data file in `/data/complications_all.csv`.\n",
        "\n",
        "Read in the data file and create a variable called `mo_hospitals` that contains a data frame from the `complications_all.csv` file, filtered down to only contain those hospitals from the state of Missouri (MO).\n",
        "\n",
        "Then aggregate that data by hospital into a variable named `mo_summary`.  There are some key fields that we want to summarize:\n",
        "* We want to know the earliest date that each hospital was participating in any program\n",
        "* We want to know the latest date that each hospital stopped participating in any program\n",
        "* We want to know the total number of patients in the denominators of these programs\n",
        "\n",
        "Some things to note:\n",
        "* You will need to convert the `Start Date` and `End Date` to actual datetime fields\n",
        "* You will need to clean up and convert the `Denominator` field to just be numeric - the rule that you should use it to simply remove any records where the `Denominator` is `'Not Available'`\n",
        "\n",
        "\n",
        "The final result of this step should be a new data frame called `mo_summary` that contains one row for each hospital and contains the min start date, max end date, and total denominator.  Use the names `start_date`, `end_date`, and `number` for those columns in `mo_summary`.\n",
        "\n",
        "\n",
        "You do not need to create your code in the form of a function, just make sure your variable names match what I've described above so the tests work."
      ]
    },
    {
      "cell_type": "code",
      "execution_count": 10,
      "metadata": {
        "id": "UOPLuzmI2O77"
      },
      "outputs": [],
      "source": [
        "import pandas as pd\n",
        "# This is just to show you the name to use for the variable you need to create for this step to pass.\n",
        "all_hospitals = pd.read_csv('https://hds5210-data.s3.amazonaws.com/complications_all.csv')\n"
      ]
    },
    {
      "cell_type": "code",
      "execution_count": 11,
      "metadata": {
        "id": "v43r4fE02O79"
      },
      "outputs": [],
      "source": [
        "# Do you work here and in as many cells as you need to create a variable called `mo_summary` that matches the requirements\n",
        "mo_hospitals = all_hospitals[all_hospitals['State'] == 'MO'].copy()\n",
        "\n",
        "# Convert date columns to datetime\n",
        "mo_hospitals['Start Date'] = pd.to_datetime(mo_hospitals['Start Date'])\n",
        "mo_hospitals['End Date'] = pd.to_datetime(mo_hospitals['End Date'])\n",
        "\n",
        "# Clean up Denominator field\n",
        "mo_hospitals = mo_hospitals[mo_hospitals['Denominator'] != 'Not Available']\n",
        "mo_hospitals['Denominator'] = pd.to_numeric(mo_hospitals['Denominator'])\n",
        "\n",
        "# Create summary by hospital\n",
        "mo_summary = pd.DataFrame({\n",
        "    'start_date': mo_hospitals.groupby('Facility Name')['Start Date'].min(),\n",
        "    'end_date': mo_hospitals.groupby('Facility Name')['End Date'].max(),\n",
        "    'number': mo_hospitals.groupby('Facility Name')['Denominator'].sum()\n",
        "})"
      ]
    },
    {
      "cell_type": "code",
      "execution_count": 12,
      "metadata": {
        "id": "NJFj8Gbt2O79"
      },
      "outputs": [],
      "source": [
        "assert(mo_summary['number'].sum() == 1766908)\n",
        "assert(mo_summary['start_date'].min() == pd.Timestamp(2015,4,1))\n",
        "assert(mo_summary['end_date'].max() == pd.Timestamp(2018,6,30))\n",
        "assert(mo_summary.shape == (108,3))\n",
        "assert(mo_summary.loc['BARNES JEWISH HOSPITAL'].number == 131313)\n",
        "assert(mo_summary.loc['BOONE HOSPITAL CENTER'].number == 63099)"
      ]
    },
    {
      "cell_type": "markdown",
      "metadata": {
        "id": "RZDGoX5f2O7-"
      },
      "source": [
        "---\n",
        "\n",
        "### 47.2 Planning your final project\n",
        "\n",
        "You should be thinking about the things we've been learning and how you can apply them to your final project.  Use the rubric to help guid your thinking and then answer the questions below.  This is meant as a guide to help you think through what you will do."
      ]
    },
    {
      "cell_type": "markdown",
      "metadata": {
        "id": "tL5BeGQj2O7-"
      },
      "source": [
        "#### A) Data Access\n",
        "\n",
        "Your project should include data from at least three distinct types of sources.  For example: AWS S3, Relational Databases, Internet, Web Services, local files.  List what data sources you're planning to use."
      ]
    },
    {
      "cell_type": "markdown",
      "source": [],
      "metadata": {
        "id": "ULwlmu7L3I3H"
      }
    },
    {
      "cell_type": "markdown",
      "source": [
        "Data Sources:"
      ],
      "metadata": {
        "id": "DjiWOJ_W3MQ2"
      }
    },
    {
      "cell_type": "markdown",
      "metadata": {
        "id": "kUK07Aso2O7-"
      },
      "source": [
        "\n",
        "\n",
        "AWS S3, Local CSV Files and internet.\n"
      ]
    },
    {
      "cell_type": "markdown",
      "metadata": {
        "id": "rAzW0N5Q2O7_"
      },
      "source": [
        "#### B. Data Formats\n",
        "\n",
        "Your project should include data that comes in different file formats.  For example: HL7, EDI, HTML, CSV, Excel, JSON, XML.  List what data formats you're planning to use."
      ]
    },
    {
      "cell_type": "markdown",
      "metadata": {
        "id": "7vdORKnN2O7_"
      },
      "source": [
        "**Double-click to enter your answer**\n",
        "\n",
        "JSON, CSV, HTML, Excel and XML\n"
      ]
    },
    {
      "cell_type": "markdown",
      "metadata": {
        "id": "GVN0OFLe2O7_"
      },
      "source": [
        "#### C. Objective\n",
        "\n",
        "What purpose would your project serve in a real work setting?  Take a couple of paragraphs to write down why this is an interesting product."
      ]
    },
    {
      "cell_type": "markdown",
      "metadata": {
        "id": "Fh1CfV3I2O7_"
      },
      "source": [
        "**Double-click to enter your answer**\n",
        "\n",
        "The drive behind developing the Healthcare Performance Analytics Hub is to transform the way in which healthcare managers and policy makers are able to obtain and utilize routine and annual hospital reports. Now, decision-makers are struggling with a number of unrelated data sources, they have to concatenate the quality metrics, financial data, and patient experience information with different time lags, low efficiency, and high error rates. This system will include automatically feeding in the information from CMS quality metrics, CDC population statistics, hospital cost reports and even patient review sites like Health Grades and Vitals, then overlay that info on top of other sources in a way that will update hourly as new data comes in.\n",
        "\n",
        "In addition to integration of data from these measures, this is a project that will drive additional strategic value by analyzing relationships that exist between quality, financial, and satisfaction data that are currently not easily discernible due to data fragmentation. For instance, the hospital managers could easily determine the effectiveness of different quality improvement plans in relation to the return on investment, or the policy makers could have a clear picture of the role of various factors in the performance of hospitals in the undeserved areas. ED use could then also serve to underpin strategic planning, drive the discovery of facility benchmarks, guide value-based care efforts, and, in a broader sense, help enhance the delivery of care.\n"
      ]
    },
    {
      "cell_type": "markdown",
      "metadata": {
        "id": "UhBHeve82O8A"
      },
      "source": [
        "\n",
        "\n",
        "---\n",
        "\n",
        "\n",
        "\n",
        "## Submit your work via GitHub as normal\n"
      ]
    }
  ],
  "metadata": {
    "kernelspec": {
      "display_name": "Python 3",
      "language": "python",
      "name": "python3"
    },
    "language_info": {
      "codemirror_mode": {
        "name": "ipython",
        "version": 3
      },
      "file_extension": ".py",
      "mimetype": "text/x-python",
      "name": "python",
      "nbconvert_exporter": "python",
      "pygments_lexer": "ipython3",
      "version": "3.9.16"
    },
    "colab": {
      "provenance": [],
      "include_colab_link": true
    }
  },
  "nbformat": 4,
  "nbformat_minor": 0
}