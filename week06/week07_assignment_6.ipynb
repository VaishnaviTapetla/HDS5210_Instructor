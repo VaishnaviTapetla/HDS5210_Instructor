{
  "cells": [
    {
      "cell_type": "markdown",
      "metadata": {
        "id": "view-in-github",
        "colab_type": "text"
      },
      "source": [
        "<a href=\"https://colab.research.google.com/github/VaishnaviTapetla/HDS5210_Instructor/blob/main/week06/week07_assignment_6.ipynb\" target=\"_parent\"><img src=\"https://colab.research.google.com/assets/colab-badge.svg\" alt=\"Open In Colab\"/></a>"
      ]
    },
    {
      "cell_type": "markdown",
      "metadata": {
        "id": "kfzWgCv5ergi"
      },
      "source": [
        "# Week 7 Assignment\n",
        "\n",
        "We've been working with different types of data structures in Python (dictionary, list, etc), how those are represented in JSON documents, and how to write code to access specific data elements. In this week's assignment, you will need to create your own JSON document to store information about yourself and the grades you've received from week 1 to week 4 and the week 6 quiz.  That is, everything you should have received a grade for.  Then you'll need to show me you know how to navigate the JSON in that file.\n",
        "\n",
        "Different from what we've done in the past, you do not have to write any functions or include any docstrings.  Just create some JSON and write some code.\n",
        "\n",
        "---"
      ]
    },
    {
      "cell_type": "markdown",
      "metadata": {
        "id": "wHYUXdRrergm"
      },
      "source": [
        "## 7.1 Create a JSON file\n",
        "\n",
        "Create a JSON file that contains your name, email, year you were born, all of the grades you've received back so far, and a comment about what you thought was most challenging on each of those assignments.  This can be any structure you choose, but make sure it uses a dictionary and a list, and has at least two levels of hierarchy.  That is, it can't just be one big long list."
      ]
    },
    {
      "cell_type": "markdown",
      "metadata": {
        "id": "9_NQWgBcergn"
      },
      "source": [
        "First, explain how your data structure is going to look..."
      ]
    },
    {
      "cell_type": "markdown",
      "metadata": {
        "id": "feEKYkELergo"
      },
      "source": [
        "* Top-level: A dictionary containing personal information and an assignments list Personal information: Keys for name, email, and birth_year with corresponding values Assignments: A list of dictionaries, where each dictionary represents an assignment\n",
        "\n",
        "At the first level, this structure employs a dictionary, with another dictionary as a list of assignments to give this hierarchy at least two tiers. Unlike the traditional lists, the assignments list can hold several entries where each entry holds information on the assignments, the grade given and the issues encountered. However, it is possible to expand this organization easily to encompass more forms if more assignments are required or additional personal information may be added if necessary in future."
      ]
    },
    {
      "cell_type": "markdown",
      "metadata": {
        "id": "eIZPMD46ergo"
      },
      "source": [
        "Then put the actual JSON you've created inside the multiline string below..."
      ]
    },
    {
      "cell_type": "code",
      "execution_count": 10,
      "metadata": {
        "id": "44oEnOyGergo"
      },
      "outputs": [],
      "source": [
        "hds5210 = \"\"\"\n",
        "{\n",
        "\"name\": \"Vaishnavi Tapetla\",\n",
        "\"email\": \"vtapetla@slu.edu\",\n",
        "\"birth_year\": 2000,\n",
        "\"assignments\": [\n",
        "{\n",
        "\"name\": \"Week 01 Assignment\",\n",
        "\"score\": 10,\n",
        "\"max_score\": 10,\n",
        "\"challenge\": \"Understanding the initial setup and requirements.\"\n",
        "},\n",
        "{\n",
        "\"name\": \"Week 2 Assignment\",\n",
        "\"score\": 6,\n",
        "\"max_score\": 10,\n",
        "\"challenge\": \"Grasping the concept of functions and their implementation.\"\n",
        "},\n",
        "{\n",
        "\"name\": \"Week 3 Assignment\",\n",
        "\"score\": 10,\n",
        "\"max_score\": 10,\n",
        "\"challenge\": \"Applying conditional statements effectively.\"\n",
        "},\n",
        "{\n",
        "\"name\": \"Week 4 Assignment\",\n",
        "\"score\": 9,\n",
        "\"max_score\": 10,\n",
        "\"challenge\": \"Working with complex data structures like dictionaries and lists.\"\n",
        "}\n",
        "]\n",
        "}\n",
        "\"\"\""
      ]
    },
    {
      "cell_type": "markdown",
      "metadata": {
        "id": "PHXpTcNAergp"
      },
      "source": [
        "## 7.2 Do something with your JSON\n",
        "\n",
        "Now use Python code to do something with the Json above.  Turn it into English text, but make sure that you use at least one loop to access some dict or list content of your JSON.  Below, I've provided some basic code to read in the string above as JSON and return a Python object.  Your job is to work with that data structure and print out the important information like your name, email, and how you did on each assignment."
      ]
    },
    {
      "cell_type": "code",
      "execution_count": 11,
      "metadata": {
        "id": "9p0yZqvrergp",
        "outputId": "05321ecb-4afb-47cc-fa0c-b032b59cacc4",
        "colab": {
          "base_uri": "https://localhost:8080/"
        }
      },
      "outputs": [
        {
          "output_type": "stream",
          "name": "stdout",
          "text": [
            "Student Profile and Assignment Summary for Vaishnavi Tapetla\n",
            "Email: vtapetla@slu.edu\n",
            "Year of Birth: 2000\n",
            "\n",
            "Assignment Performance:\n",
            "\n",
            "Week 01 Assignment:\n",
            "  Score: 10 out of 10\n",
            "  Main Challenge: Understanding the initial setup and requirements.\n",
            "\n",
            "Week 2 Assignment:\n",
            "  Score: 6 out of 10\n",
            "  Main Challenge: Grasping the concept of functions and their implementation.\n",
            "\n",
            "Week 3 Assignment:\n",
            "  Score: 10 out of 10\n",
            "  Main Challenge: Applying conditional statements effectively.\n",
            "\n",
            "Week 4 Assignment:\n",
            "  Score: 9 out of 10\n",
            "  Main Challenge: Working with complex data structures like dictionaries and lists.\n",
            "\n",
            "Overall Performance:\n",
            "Total Score: 35 out of 40\n",
            "Overall Percentage: 87.50%\n"
          ]
        }
      ],
      "source": [
        "import json\n",
        "\n",
        "info = json.loads(hds5210)\n",
        "# Put your code to output a paragraph of English text here\n",
        "\n",
        "\n",
        "# Generate the summary\n",
        "print(f\"Student Profile and Assignment Summary for {info['name']}\")\n",
        "print(f\"Email: {info['email']}\")\n",
        "print(f\"Year of Birth: {info['birth_year']}\")\n",
        "print(\"\\nAssignment Performance:\")\n",
        "\n",
        "total_score = 0\n",
        "total_max_score = 0\n",
        "\n",
        "for assignment in info['assignments']:\n",
        "    print(f\"\\n{assignment['name']}:\")\n",
        "    print(f\"  Score: {assignment['score']} out of {assignment['max_score']}\")\n",
        "    print(f\"  Main Challenge: {assignment['challenge']}\")\n",
        "    total_score += assignment['score']\n",
        "    total_max_score += assignment['max_score']\n",
        "\n",
        "overall_percentage = (total_score / total_max_score) * 100\n",
        "\n",
        "print(f\"\\nOverall Performance:\")\n",
        "print(f\"Total Score: {total_score} out of {total_max_score}\")\n",
        "print(f\"Overall Percentage: {overall_percentage:.2f}%\")"
      ]
    },
    {
      "cell_type": "markdown",
      "metadata": {
        "id": "qJcDMtHTergq"
      },
      "source": [
        "## 7.3 Reflect\n",
        "\n",
        "Write a paragraph on any reflections you have. Was this hard? Easy?  What parts were most challenging or easiest? What did you like or dislike about the assignment?  Share whatever important thoughts you have abou this assignment."
      ]
    },
    {
      "cell_type": "markdown",
      "metadata": {
        "id": "uKcNL6gkergq"
      },
      "source": [
        "Altogether, this assignment was fairly equally constructed – it was easy to understand theoretical concepts while at the same time requiring an application of them. The construction of the JSON structure was rather simple but defining an efficient hierarchical design was a little thought through. The coding part was a bit complex in Python – more on creating concise and informative output from nested data. I discovered the process of data tidiness not only useful but also informative during the process of raw data transformation into easily readable format. Although the assignment is not particularly complicated, it was useful in reviewing some quite basic concepts such as working with JSON and handling complex data in Python, as well as learning about practical applications. This made me think from a data storage and usage standpoint, which is something I really enjoyed doing. In general, the exercise helped me to understand the importance of structured data management and clear information sharing and became a great learning experience, which connected theory and practice."
      ]
    },
    {
      "cell_type": "markdown",
      "metadata": {
        "id": "R0a9A-rkergq"
      },
      "source": [
        "---\n",
        "\n",
        "# Example\n",
        "\n",
        "Below is an example of something similar, but this uses information my and my friend's kids instead of grades."
      ]
    },
    {
      "cell_type": "code",
      "execution_count": 12,
      "metadata": {
        "id": "112xRYvmergr",
        "outputId": "b745ea55-5332-4128-ef85-227a21976911",
        "colab": {
          "base_uri": "https://localhost:8080/"
        }
      },
      "outputs": [
        {
          "output_type": "stream",
          "name": "stdout",
          "text": [
            "Hi, my name is Paul. I've got 3 kids. Their names are Ellie, Ada, Teddy.\n",
            "My friend, Anny has 1 kids. That's fewer than me. Their names are 1\n"
          ]
        }
      ],
      "source": [
        "hds5210 = \"\"\"\n",
        "{\n",
        "    \"me\": {\n",
        "        \"name\": \"Paul\",\n",
        "        \"kids\": [\"Ellie\", \"Ada\", \"Teddy\"]\n",
        "    },\n",
        "    \"friend\": {\n",
        "        \"name\": \"Anny\",\n",
        "        \"kids\": [\"Abby\"]\n",
        "    }\n",
        "}\n",
        "\"\"\"\n",
        "\n",
        "import json\n",
        "\n",
        "info = json.loads(hds5210)\n",
        "\n",
        "me = info[\"me\"][\"name\"]\n",
        "my_kids_count = len(info[\"me\"][\"kids\"])\n",
        "kids_list = \", \".join(info[\"me\"][\"kids\"])\n",
        "friend = info[\"friend\"][\"name\"]\n",
        "friends_kid_count = len(info[\"friend\"][\"kids\"])\n",
        "friend_kids = \", \".join(info[\"friend\"][\"kids\"])\n",
        "compare = \"more\" if friends_kid_count > my_kids_count else \"fewer\"\n",
        "\n",
        "print(f\"Hi, my name is {me}. I've got {my_kids_count} kids. Their names are {kids_list}.\")\n",
        "print(f\"My friend, {friend} has {friends_kid_count} kids. That's {compare} than me. Their names are {friends_kid_count}\")"
      ]
    }
  ],
  "metadata": {
    "kernelspec": {
      "display_name": "Python 3",
      "language": "python",
      "name": "python3"
    },
    "language_info": {
      "codemirror_mode": {
        "name": "ipython",
        "version": 3
      },
      "file_extension": ".py",
      "mimetype": "text/x-python",
      "name": "python",
      "nbconvert_exporter": "python",
      "pygments_lexer": "ipython3",
      "version": "3.9.16"
    },
    "colab": {
      "provenance": [],
      "include_colab_link": true
    }
  },
  "nbformat": 4,
  "nbformat_minor": 0
}